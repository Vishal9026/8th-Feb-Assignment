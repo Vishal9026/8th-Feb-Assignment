{
 "cells": [
  {
   "cell_type": "code",
   "execution_count": 1,
   "id": "3d60e4b9-0f24-4ef8-a7ec-53807bb5da4d",
   "metadata": {},
   "outputs": [
    {
     "data": {
      "text/plain": [
       "'EXAMPLE:Your car is a great example of abstraction. You can start a car by turning the key or pressing the start button. You don’t need to know how the engine is getting started, what all components your car has. The car internal implementation and complex logic is completely hidden from the user.'"
      ]
     },
     "execution_count": 1,
     "metadata": {},
     "output_type": "execute_result"
    }
   ],
   "source": [
    "#ANSWER-1)Abstraction is the process of hiding the internal details of an application from the outer world. Abstraction is used to describe things in simple terms. It’s used to create a boundary between the application and the client programs\n",
    "'''EXAMPLE:Your car is a great example of abstraction. You can start a car by turning the key or pressing the start button. You don’t need to know how the engine is getting started, what all components your car has. The car internal implementation and complex logic is completely hidden from the user.'''"
   ]
  },
  {
   "cell_type": "code",
   "execution_count": 2,
   "id": "8ee8b599-4664-4854-a641-6338e5f4f504",
   "metadata": {},
   "outputs": [],
   "source": [
    "#ANSWER-2)Abstraction happens at class level by hiding implementation and implementing an interface to be able to interact with the instance of the class.\n",
    "#Encapsulation is used to hide information; for instance, making the member variables private to ban the direct access and providing getters and setters for them for indicrect access.\n",
    "# example:1\n",
    "\n",
    "\n",
    "# Encapsulation is wrapping up of data and methods in a single unit and making the data accessible only through methods(getter/setter) to ensure safety of data.\n",
    "# Abstraction is hiding internal implementation details of how work is done."
   ]
  },
  {
   "cell_type": "code",
   "execution_count": 3,
   "id": "aa870037-8d55-46e9-a4be-63a50c73631e",
   "metadata": {},
   "outputs": [],
   "source": [
    "# ANSWER-3) Python has a module called abc (abstract base class) that offers the necessary tools for crafting an abstract base class.\n",
    "# using an abstract class, a class can derive identity from another class without any object inheritance."
   ]
  },
  {
   "cell_type": "code",
   "execution_count": 4,
   "id": "baaf1b57-dddf-465f-a6be-bf7a4f9c57e8",
   "metadata": {},
   "outputs": [],
   "source": [
    "# ANSWER-4)Data abstraction is a method where essential elements are displayed to the user and trivial elements are kept hidden."
   ]
  },
  {
   "cell_type": "code",
   "execution_count": null,
   "id": "35da8f36-badf-47fe-9f4f-2205a8bdda0a",
   "metadata": {},
   "outputs": [],
   "source": []
  }
 ],
 "metadata": {
  "kernelspec": {
   "display_name": "Python 3 (ipykernel)",
   "language": "python",
   "name": "python3"
  },
  "language_info": {
   "codemirror_mode": {
    "name": "ipython",
    "version": 3
   },
   "file_extension": ".py",
   "mimetype": "text/x-python",
   "name": "python",
   "nbconvert_exporter": "python",
   "pygments_lexer": "ipython3",
   "version": "3.10.8"
  }
 },
 "nbformat": 4,
 "nbformat_minor": 5
}
